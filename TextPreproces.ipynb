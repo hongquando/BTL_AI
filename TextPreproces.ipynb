{
 "cells": [
  {
   "cell_type": "code",
   "execution_count": 1,
   "metadata": {},
   "outputs": [
    {
     "name": "stderr",
     "output_type": "stream",
     "text": [
      "/usr/local/lib/python3.6/site-packages/h5py/__init__.py:36: FutureWarning: Conversion of the second argument of issubdtype from `float` to `np.floating` is deprecated. In future, it will be treated as `np.float64 == np.dtype(float).type`.\n",
      "  from ._conv import register_converters as _register_converters\n"
     ]
    }
   ],
   "source": [
    "from pyvi.pyvi import ViTokenizer, ViPosTagger\n",
    "from sklearn.base import TransformerMixin, BaseEstimator\n",
    "import os\n",
    "from sklearn.svm import LinearSVC\n",
    "from gensim import corpora, matutils\n",
    "from sklearn.metrics import classification_report\n",
    "import sys\n",
    "import codecs\n",
    "import json\n",
    "from sklearn.preprocessing import OneHotEncoder\n",
    "import numpy as np\n",
    "import random\n",
    "import matplotlib.pyplot as plt\n",
    "import numpy as np\n",
    "import tensorflow as tf\n",
    "from sklearn import datasets\n",
    "from tensorflow.python.framework import ops"
   ]
  },
  {
   "cell_type": "code",
   "execution_count": 2,
   "metadata": {},
   "outputs": [
    {
     "name": "stdout",
     "output_type": "stream",
     "text": [
      "/Users/mac/Downloads/Data/stopwords-nlp-vi.txt\n"
     ]
    }
   ],
   "source": [
    "DIR_PATH=\"/Users/mac/Downloads/Data\"\n",
    "DIR_PATH_TRAIN = os.path.join(DIR_PATH,'Train_Full')\n",
    "DIR_PATH_TEST = os.path.join(DIR_PATH,'Test_Full')\n",
    "DICTIONARY_PATH = os.path.join(DIR_PATH,'dictionary.txt')\n",
    "STOP_WORDS = os.path.join(DIR_PATH,'stopwords-nlp-vi.txt')\n",
    "SPECIAL_CHARACTER = '0123456789?…“”–%@$.,=+-!;/()*\"&^:#|\\n\\t\\''\n",
    "print(STOP_WORDS)\n",
    "label=['Van hoa','The gioi','Khoa hoc','Suc khoe','Chinh tri Xa hoi',\n",
    "       'Vi tinh','Kinh doanh','The thao','Phap luat','Doi song']"
   ]
  },
  {
   "cell_type": "code",
   "execution_count": 3,
   "metadata": {},
   "outputs": [],
   "source": [
    "class ReadData(object):\n",
    "    def __init__(self,dataPath,encoder=None):\n",
    "        self.dataPath = dataPath\n",
    "        self.encoder = encoder if encoder != None else 'utf-16le'\n",
    "        \n",
    "    def get_name_files(self):\n",
    "        class_file = os.listdir(self.dataPath)        \n",
    "        class_label=[]\n",
    "        folders=[]\n",
    "        for file in os.listdir(self.dataPath):\n",
    "            class_label.append(file)\n",
    "            folders.append(os.path.join(self.dataPath,file))\n",
    "        self.folders = folders\n",
    "        self.class_label=class_label\n",
    "        #print(self.class_label)\n",
    "        #print (self.folders)\n",
    "        \n",
    "    def get_data(self):\n",
    "        self.get_name_files()\n",
    "        data=[]\n",
    "        i=0\n",
    "        for label in self.class_label:\n",
    "            rand = random.randint(50,100)\n",
    "            print(label)\n",
    "            for file in os.listdir(self.folders[self.class_label.index(label)]):\n",
    "                #print(file)\n",
    "                i+=1\n",
    "                with open(os.path.join(self.folders[self.class_label.index(label)],file),'rb') as f:\n",
    "                    s = f.read()                  \n",
    "                data.append({\n",
    "                    \"label\":label,\n",
    "                    \"content\":s.decode(self.encoder) \n",
    "                })\n",
    "                if(i==rand): break\n",
    "            i=0\n",
    "            #if(i>100): break\n",
    "        self.data=data\n",
    "        print(len(data))\n",
    "        return data\n",
    "    \n",
    "    def read_stopwords(self):\n",
    "        with open(self.dataPath, 'r') as f:\n",
    "            stopwords = set([w.strip().replace(' ', '_') for w in f.readlines()])\n",
    "        return stopwords\n",
    "    \n",
    "    def load_dictionary(self):\n",
    "        return corpora.Dictionary.load_from_text(self.dataPath)          "
   ]
  },
  {
   "cell_type": "code",
   "execution_count": 4,
   "metadata": {},
   "outputs": [],
   "source": [
    "class FileStore(object):\n",
    "    def __init__(self, filePath, data = None):\n",
    "        self.filePath = filePath\n",
    "        self.data = data\n",
    "\n",
    "    def store_dictionary(self, dict_words):\n",
    "        dictionary = corpora.Dictionary(dict_words)\n",
    "        #dictionary.filter_extremes(no_below=1, no_above=0.1)\n",
    "        dictionary.filter_extremes(no_below=20, no_above=0.3)\n",
    "        dictionary.save_as_text(self.filePath)\n",
    "\n",
    "    def save_model(self,  obj):\n",
    "        outfile = open(self.filePath, 'wb')\n",
    "        fastPickler = cPickle.Pickler(outfile, cPickle.HIGHEST_PROTOCOL)\n",
    "        fastPickler.fast = 1\n",
    "        fastPickler.dump(obj)\n",
    "        outfile.close()"
   ]
  },
  {
   "cell_type": "code",
   "execution_count": 5,
   "metadata": {},
   "outputs": [],
   "source": [
    "class FeatureExtraction(object):\n",
    "    def __init__(self, data):\n",
    "        self.data = data\n",
    "\n",
    "    def __build_dictionary(self):\n",
    "        print ('Building dictionary')\n",
    "        dict_words = []\n",
    "        i = 0\n",
    "        for text in self.data:\n",
    "            i+=1\n",
    "            #print (\"Step {} / {}\".format(i, len(self.data)))\n",
    "            words = NLP(text=text['content']).get_words_feature()\n",
    "            dict_words.append(words)\n",
    "        FileStore(filePath=DICTIONARY_PATH).store_dictionary(dict_words)\n",
    "\n",
    "    def __load_dictionary(self):\n",
    "        if os.path.exists(DICTIONARY_PATH) == False:\n",
    "            self.__build_dictionary()\n",
    "        self.dictionary = ReadData(DICTIONARY_PATH).load_dictionary()\n",
    "\n",
    "    def build_dataset(self):\n",
    "        self.features = []\n",
    "        self.labels = []\n",
    "        i = 0\n",
    "        for d in self.data:\n",
    "            i += 1\n",
    "            #print (\"Step {} / {}\".format(i, len(self.data)))\n",
    "            self.features.append(self.get_dense(d['content']))\n",
    "            self.labels.append(label.index(d['label']))\n",
    "            #self.labels.append(d['label'])\n",
    "\n",
    "    def get_dense(self, text):\n",
    "        self.__load_dictionary()\n",
    "        words = NLP(text).get_words_feature()\n",
    "        i=0\n",
    "        #print(words)\n",
    "        # Bag of words\n",
    "        vec = self.dictionary.doc2bow(words)\n",
    "        dense = list(matutils.corpus2dense([vec], num_terms=len(self.dictionary)).T[0])\n",
    "        #return words,len(self.dictionary)\n",
    "        return dense\n",
    "\n",
    "    def get_data_and_label(self):\n",
    "        self.build_dataset()\n",
    "        return self.features, self.labels"
   ]
  },
  {
   "cell_type": "code",
   "execution_count": 6,
   "metadata": {},
   "outputs": [],
   "source": [
    "class NLP(object):\n",
    "    def __init__(self, text = None):\n",
    "        self.text = text\n",
    "        self.__set_stopwords()\n",
    "\n",
    "    def segmentation(self):\n",
    "        return ViTokenizer.tokenize(self.text)\n",
    "    \n",
    "    def display(self):\n",
    "        print(self.segmentation())\n",
    "        \n",
    "    def __set_stopwords(self):\n",
    "        self.stopwords = ReadData(STOP_WORDS).read_stopwords()\n",
    "        \n",
    "    def split_words(self):\n",
    "        text = self.segmentation()\n",
    "        try:\n",
    "            return [x.strip(SPECIAL_CHARACTER).lower() for x in text.split()]\n",
    "        except TypeError:\n",
    "            return []\n",
    "        \n",
    "    def get_words_feature(self):\n",
    "        split_words = self.split_words()\n",
    "        return [word for word in split_words if word.encode('utf-8') not in self.stopwords]"
   ]
  },
  {
   "cell_type": "code",
   "execution_count": 7,
   "metadata": {},
   "outputs": [
    {
     "name": "stdout",
     "output_type": "stream",
     "text": [
      "Van hoa\n",
      "The gioi\n",
      "Khoa hoc\n",
      "Suc khoe\n",
      "Chinh tri Xa hoi\n",
      "Vi tinh\n",
      "Kinh doanh\n",
      "The thao\n",
      "Phap luat\n",
      "Doi song\n",
      "718\n",
      "Van hoa\n",
      "The gioi\n",
      "Khoa hoc\n",
      "Suc khoe\n",
      "Chinh tri Xa hoi\n",
      "Vi tinh\n",
      "Kinh doanh\n",
      "The thao\n",
      "Phap luat\n",
      "Doi song\n",
      "820\n",
      "Building dictionary\n"
     ]
    }
   ],
   "source": [
    "read_train = ReadData(DIR_PATH_TRAIN)\n",
    "data_train = read_train.get_data()\n",
    "read_test = ReadData(DIR_PATH_TEST)\n",
    "data_test = read_test.get_data()\n",
    "#data_train,label_train = FeatureExtraction(data=data_train).get_data_and_label()\n",
    "x_train,y_train = FeatureExtraction(data=data_train).get_data_and_label()\n",
    "x_test,y_test = FeatureExtraction(data=data_test).get_data_and_label()"
   ]
  },
  {
   "cell_type": "code",
   "execution_count": 8,
   "metadata": {},
   "outputs": [
    {
     "name": "stdout",
     "output_type": "stream",
     "text": [
      "(718, 10)\n",
      "(820, 10)\n"
     ]
    }
   ],
   "source": [
    "y_train = np.asarray(y_train)\n",
    "onehot_encoder = OneHotEncoder(sparse=False)\n",
    "y_train = y_train.reshape(len(y_train), 1)\n",
    "y_train = onehot_encoder.fit_transform(y_train)\n",
    "print(y_train.shape)\n",
    "\n",
    "y_test = np.asarray(y_test)\n",
    "onehot_encoder = OneHotEncoder(sparse=False)\n",
    "y_test = y_test.reshape(len(y_test), 1)\n",
    "y_test = onehot_encoder.fit_transform(y_test)\n",
    "print(y_test.shape)"
   ]
  },
  {
   "cell_type": "code",
   "execution_count": 9,
   "metadata": {},
   "outputs": [
    {
     "name": "stdout",
     "output_type": "stream",
     "text": [
      "(718, 1077)\n",
      "(820, 1077)\n"
     ]
    }
   ],
   "source": [
    "x_train = np.asarray(x_train)\n",
    "x_train = np.hstack([x_train, np.ones((x_train.shape[0], 1))])\n",
    "x_test=np.asarray(x_test)\n",
    "x_test = np.hstack([x_test, np.ones((x_test.shape[0], 1))])\n",
    "print(x_train.shape)\n",
    "print(x_test.shape)"
   ]
  },
  {
   "cell_type": "code",
   "execution_count": 10,
   "metadata": {},
   "outputs": [
    {
     "name": "stdout",
     "output_type": "stream",
     "text": [
      "(574,)\n",
      "(144,)\n",
      "(574, 1077)\n",
      "(144, 1077)\n",
      "(574, 10)\n",
      "(144, 10)\n"
     ]
    }
   ],
   "source": [
    "train_numbers = np.random.choice(x_train.shape[0],round(x_train.shape[0]*0.8),replace=False)\n",
    "valid_numbers = np.array(list(set(range(x_train.shape[0])) - set(train_numbers)))\n",
    "# train_numbers = np.random.choice(len(data_train),round(len(data_train)*0.8),replace=False)\n",
    "# valid_numbers = np.array(list(set(range(len(data_train))) - set(train_numbers)))\n",
    "print(train_numbers.shape)\n",
    "print(valid_numbers.shape)\n",
    "\n",
    "x_valid = x_train[valid_numbers]\n",
    "x_train= x_train[train_numbers]\n",
    "y_valid = y_train[valid_numbers]\n",
    "y_train = y_train[train_numbers]\n",
    "\n",
    "# x_train = list(data_train[i] for i in train_numbers )\n",
    "# x_valid = list(data_train[i] for i in valid_numbers )\n",
    "# y_train = list(label_train[i] for i in train_numbers )\n",
    "# y_valid = list(label_train[i] for i in valid_numbers )\n",
    "\n",
    "print(x_train.shape)\n",
    "print(x_valid.shape)\n",
    "print(y_train.shape)\n",
    "print(y_valid.shape)\n",
    "# print(len(x_train))\n",
    "# print(len(y_train))"
   ]
  },
  {
   "cell_type": "code",
   "execution_count": 11,
   "metadata": {},
   "outputs": [
    {
     "name": "stdout",
     "output_type": "stream",
     "text": [
      "WARNING:tensorflow:From <ipython-input-11-8adbc7882278>:14: calling reduce_sum (from tensorflow.python.ops.math_ops) with keep_dims is deprecated and will be removed in a future version.\n",
      "Instructions for updating:\n",
      "keep_dims is deprecated, use keepdims instead\n"
     ]
    }
   ],
   "source": [
    "sess = tf.Session()\n",
    "#feature_size = x_train.shape[1]\n",
    "# graph = tf.Graph()\n",
    "# with graph.as_default():\n",
    "delta = 1.0\n",
    "regulation_rate = 0\n",
    "learn_rate = 0\n",
    "\n",
    "x_data = tf.placeholder(shape=[None,x_train.shape[1]], dtype=tf.float32)\n",
    "y_data = tf.placeholder(shape=[None,y_train.shape[1]], dtype=tf.float32)    \n",
    "W = tf.Variable(tf.random_normal(shape=[x_train.shape[1], y_train.shape[1]]))\n",
    "    \n",
    "predict = tf.matmul(x_data,W)\n",
    "y = tf.reduce_sum(predict*y_data, 1, keep_dims=True)\n",
    "loss = tf.reduce_mean(tf.reduce_sum(tf.maximum(0.0, delta - y + predict),1))\n",
    "loss = tf.add(loss,regulation_rate * tf.nn.l2_loss(W))\n",
    "\n",
    "prediction = tf.argmax(predict,1)\n",
    "accuracy = tf.reduce_mean(tf.cast(tf.equal(prediction, tf.argmax(y_data,1)), tf.float32))\n",
    "\n",
    "# Declare optimizer\n",
    "my_opt = tf.train.AdamOptimizer(learning_rate=learn_rate)\n",
    "train_step = my_opt.minimize(loss)\n",
    "\n",
    "# Initialize variables\n",
    "# init = tf.global_variables_initializer()\n",
    "# sess.run(init)"
   ]
  },
  {
   "cell_type": "code",
   "execution_count": 12,
   "metadata": {},
   "outputs": [
    {
     "name": "stdout",
     "output_type": "stream",
     "text": [
      "WARNING:tensorflow:From /usr/local/lib/python3.6/site-packages/tensorflow/python/util/tf_should_use.py:118: initialize_all_variables (from tensorflow.python.ops.variables) is deprecated and will be removed after 2017-03-02.\n",
      "Instructions for updating:\n",
      "Use `tf.global_variables_initializer` instead.\n",
      "i: 0 - Loss_train: 131.00098 - Acc_train: 0.1097561 - Loss_valid: 90.816895 - Acc_valid: 0.104166664\n",
      "i: 500 - Loss_train: 4.026436 - Acc_train: 0.9965157 - Loss_valid: 19.724106 - Acc_valid: 0.5347222\n",
      "i: 1000 - Loss_train: 2.6912572 - Acc_train: 0.9982578 - Loss_valid: 15.575356 - Acc_valid: 0.5416667\n",
      "i: 1500 - Loss_train: 1.9077172 - Acc_train: 1.0 - Loss_valid: 12.631965 - Acc_valid: 0.5555556\n",
      "Learning_rate: 0.01 - Regulariation: 0.0004 - Train_loss: 1.9077172- Valid_loss: 12.631965\n",
      "\n",
      "i: 0 - Loss_train: 74.44564 - Acc_train: 0.080139376 - Loss_valid: 107.81952 - Acc_valid: 0.07638889\n",
      "i: 500 - Loss_train: 3.996216 - Acc_train: 0.9965157 - Loss_valid: 33.663563 - Acc_valid: 0.5347222\n",
      "i: 1000 - Loss_train: 2.678994 - Acc_train: 0.9982578 - Loss_valid: 27.25554 - Acc_valid: 0.5625\n",
      "i: 1500 - Loss_train: 1.8993807 - Acc_train: 0.9982578 - Loss_valid: 21.189632 - Acc_valid: 0.5763889\n",
      "Learning_rate: 0.01 - Regulariation: 0.0008 - Train_loss: 1.8993807- Valid_loss: 21.189632\n",
      "\n",
      "i: 0 - Loss_train: 92.762726 - Acc_train: 0.12020906 - Loss_valid: 114.20054 - Acc_valid: 0.055555556\n",
      "i: 500 - Loss_train: 4.0469303 - Acc_train: 0.9982578 - Loss_valid: 24.363636 - Acc_valid: 0.4375\n",
      "i: 1000 - Loss_train: 2.7136774 - Acc_train: 1.0 - Loss_valid: 21.334414 - Acc_valid: 0.4236111\n",
      "i: 1500 - Loss_train: 1.9267918 - Acc_train: 0.9982578 - Loss_valid: 18.166521 - Acc_valid: 0.45833334\n",
      "Learning_rate: 0.015 - Regulariation: 0.0004 - Train_loss: 1.9267918- Valid_loss: 18.166521\n",
      "\n",
      "i: 0 - Loss_train: 119.08945 - Acc_train: 0.10627177 - Loss_valid: 103.50477 - Acc_valid: 0.06944445\n",
      "i: 500 - Loss_train: 4.0928936 - Acc_train: 0.9947735 - Loss_valid: 25.708862 - Acc_valid: 0.4513889\n",
      "i: 1000 - Loss_train: 2.738521 - Acc_train: 0.9965157 - Loss_valid: 20.682804 - Acc_valid: 0.4861111\n",
      "i: 1500 - Loss_train: 1.9416593 - Acc_train: 0.9965157 - Loss_valid: 15.477979 - Acc_valid: 0.5486111\n",
      "Learning_rate: 0.015 - Regulariation: 0.0008 - Train_loss: 1.9416593- Valid_loss: 15.477979\n",
      "\n"
     ]
    }
   ],
   "source": [
    "batch_size = 30\n",
    "delta = 1.0\n",
    "learning_rates = [0.01,0.015]\n",
    "regularization_strengths = [4e-4, 8e-4]\n",
    "loss_best=1000\n",
    "num_iters =1501\n",
    "#sess.run(tf.initialize_all_variables())\n",
    "for lr in learning_rates:\n",
    "    learning_rates = lr \n",
    "    for reg in regularization_strengths:\n",
    "        train_loss = []\n",
    "        valid_loss = []\n",
    "        train_accuracy = []\n",
    "        valid_accuracy = []\n",
    "        sess.run(tf.initialize_all_variables())\n",
    "        #tf.reset_default_graph()\n",
    "        regulation_rate = reg\n",
    "        for i in range(num_iters):\n",
    "            rand_index = np.random.choice(x_train.shape[0], size=batch_size)\n",
    "            rand_x = x_train[rand_index]\n",
    "            rand_y = y_train[rand_index,:]\n",
    "            sess.run(train_step, feed_dict={x_data: rand_x, y_data: rand_y})\n",
    "\n",
    "            tloss = sess.run(loss, feed_dict={x_data: rand_x, y_data: rand_y})\n",
    "            train_loss.append(tloss)   \n",
    "    \n",
    "            train_acc_temp = sess.run(accuracy, feed_dict={\n",
    "                x_data: x_train,\n",
    "                y_data: y_train})\n",
    "            train_accuracy.append(train_acc_temp)\n",
    "            \n",
    "            Weight = sess.run(W)\n",
    "            vloss = sess.run(loss, feed_dict={x_data: x_valid, y_data: y_valid,W:Weight})\n",
    "            valid_loss.append(vloss)\n",
    "    \n",
    "            valid_acc_temp = sess.run(accuracy, feed_dict={\n",
    "                x_data: x_valid,\n",
    "                y_data: y_valid,W:Weight})\n",
    "            valid_accuracy.append(valid_acc_temp) \n",
    "            if ((i) % 500 == 0):\n",
    "                print('i: '+str(i)+ ' - Loss_train: '+ str(tloss) +' - Acc_train: ' \n",
    "                  + str(train_acc_temp)+' - Loss_valid: '+str(vloss) + ' - Acc_valid: '+str(valid_acc_temp))\n",
    "        print (\"Learning_rate: \"+str(lr) + \" - Regulariation: \"+ str(reg) + \" - Train_loss: \"+\n",
    "               str(train_loss[-1]) +\"- Valid_loss: \"+ str(valid_loss[-1])+\"\\n\")\n",
    "        if (valid_loss[-1] < loss_best):\n",
    "            loss_best = valid_loss[-1]\n",
    "            W_best = Weight\n",
    "            train_loss_best =[]\n",
    "            valid_loss_best=[]\n",
    "            train_accuracy_best=[]\n",
    "            valid_accuracy_best=[]\n",
    "            train_loss_best = train_loss\n",
    "            valid_loss_best = valid_loss\n",
    "            train_accuracy_best = train_accuracy\n",
    "            valid_accuracy_best = valid_accuracy"
   ]
  },
  {
   "cell_type": "code",
   "execution_count": 13,
   "metadata": {},
   "outputs": [
    {
     "data": {
      "image/png": "[encoded data removed]",
      "text/plain": [
       "<Figure size 432x288 with 1 Axes>"
      ]
     },
     "metadata": {},
     "output_type": "display_data"
    },
    {
     "data": {
      "image/png": "[encoded data removed]",
      "text/plain": [
       "<Figure size 432x288 with 1 Axes>"
      ]
     },
     "metadata": {},
     "output_type": "display_data"
    }
   ],
   "source": [
    "plt.plot(train_accuracy_best, 'k-', label='Training Accuracy')\n",
    "plt.plot(valid_accuracy_best, 'r--', label='Valid Accuracy')\n",
    "plt.title('Train and Test Set Accuracies')\n",
    "plt.xlabel('Generation')\n",
    "plt.ylabel('Accuracy')\n",
    "plt.legend(loc='lower right')\n",
    "plt.show()\n",
    "\n",
    "# Plot loss over time\n",
    "plt.plot(train_loss_best, 'k-',label='Training Loss')\n",
    "plt.plot(valid_loss_best, 'r--', label='Valid Loss')\n",
    "plt.title('Loss per Generation')\n",
    "plt.xlabel('Generation')\n",
    "plt.ylabel('Loss')\n",
    "plt.legend(loc='lower right')\n",
    "plt.show()"
   ]
  },
  {
   "cell_type": "code",
   "execution_count": 14,
   "metadata": {},
   "outputs": [
    {
     "name": "stdout",
     "output_type": "stream",
     "text": [
      "53.04878048780488\n"
     ]
    }
   ],
   "source": [
    "def test(x_data,y_data,W):\n",
    "    y_pred = x_data.dot(W)\n",
    "    acc = np.mean(np.argmax(y_pred,1) == np.argmax(y_data,1))\n",
    "    return acc*100;\n",
    "accuracy=test(x_test,y_test,W_best)\n",
    "print(accuracy)"
   ]
  },
  {
   "cell_type": "code",
   "execution_count": null,
   "metadata": {},
   "outputs": [],
   "source": [
    "batch_size = 30\n",
    "train_loss = []\n",
    "valid_loss = []\n",
    "train_accuracy = []\n",
    "valid_accuracy = []\n",
    "delta = 1.0\n",
    "regulation_rate = 8e-4\n",
    "learning_rate=0.015\n",
    "sess.run(tf.initialize_all_variables())\n",
    "for i in range(1500):\n",
    "    rand_index = np.random.choice(x_train.shape[0], size=batch_size)\n",
    "    rand_x = x_train[rand_index]\n",
    "    rand_y = y_train[rand_index,:]\n",
    "    sess.run(train_step, feed_dict={x_data: rand_x, y_data: rand_y})\n",
    "\n",
    "    tloss = sess.run(loss, feed_dict={x_data: rand_x, y_data: rand_y})\n",
    "    train_loss.append(tloss)   \n",
    "    \n",
    "    train_acc_temp = sess.run(accuracy, feed_dict={\n",
    "        x_data: x_train,\n",
    "        y_data: y_train})\n",
    "    train_accuracy.append(train_acc_temp)\n",
    "\n",
    "    Weight = sess.run(W)\n",
    "    vloss = sess.run(loss, feed_dict={x_data: x_valid, y_data: y_valid,W:Weight})\n",
    "    valid_loss.append(vloss)\n",
    "    \n",
    "    valid_acc_temp = sess.run(accuracy, feed_dict={\n",
    "        x_data: x_valid,\n",
    "        y_data: y_valid,W:Weight})\n",
    "    valid_accuracy.append(valid_acc_temp)\n",
    "\n",
    "    if ((i+1) % 100 == 1):\n",
    "#         print('Step #{} W = {}'.format(\n",
    "#             str(i+1),\n",
    "#             str(sess.run(W)),\n",
    "#         ))\n",
    "        print('i: '+str(i)+ ' - Loss_train: '+ str(tloss) +' - Acc_train: ' \n",
    "              + str(train_acc_temp)+' - Loss_valid: '+str(vloss) + ' - Acc_valid: '+str(valid_acc_temp))\n"
   ]
  },
  {
   "cell_type": "code",
   "execution_count": null,
   "metadata": {},
   "outputs": [],
   "source": [
    "sess = tf.Session()\n",
    "#feature_size = x_train.shape[1]\n",
    "delta = 1.0\n",
    "regulation_rate = 8e-4\n",
    "x_data = tf.placeholder(shape=[None,x_train.shape[1]], dtype=tf.float32)\n",
    "y_data = tf.placeholder(shape=[None,y_train.shape[1]], dtype=tf.float32)\n",
    "W = tf.Variable(tf.random_normal(shape=[x_train.shape[1], y_train.shape[1]]))\n",
    "\n",
    "def svm_loss(x_data,y_data,W,regulation_rate):\n",
    "    # graph = tf.Graph()\n",
    "    # with graph.as_default():\n",
    "    predict = tf.matmul(x_data,W)\n",
    "    y = tf.reduce_sum(predict*y_data, 1, keep_dims=True)\n",
    "    #loss = tf.reduce_mean(tf.reduce_sum(tf.maximum(0.0, delta - y + predict),1))-delta\n",
    "    loss = tf.reduce_mean(tf.reduce_sum(tf.maximum(0.0, delta - y + predict),1))\n",
    "    loss = tf.add(loss,regulation_rate * tf.nn.l2_loss(W))\n",
    " \n",
    "    return loss\n",
    "\n",
    "def accuracy(x_data,y_data,W):\n",
    "    predict = tf.matmul(x_data,W)\n",
    "    prediction = tf.argmax(predict,1)\n",
    "    accuracy = tf.reduce_mean(tf.cast(tf.equal(prediction, tf.argmax(y_data,1)), tf.float32))\n",
    "    return accuracy*100;\n",
    "\n",
    "def svm_multi_class(x_data,y_data,Winit,reg,lr=8e-4,batch_size = 100, num_iters = 1500):\n",
    "    W = Winit\n",
    "    my_opt = tf.train.AdamOptimizer(lr)\n",
    "    train_step = my_opt.minimize(loss)\n",
    "    for i in range(num_iters):\n",
    "        rand_index = np.random.choice(x_data.shape[0], size=batch_size)\n",
    "        rand_x = x_data[rand_index]\n",
    "        rand_y = y_data[rand_index,:]\n",
    "        sess.run(train_step, feed_dict={x_data: rand_x, y_data: rand_y})\n",
    "\n",
    "        tloss = sess.run(svm_loss, feed_dict={x_data: rand_x, y_data: rand_y,regulation_rate=lr})\n",
    "        train_loss.append(tloss)\n",
    "\n",
    "        Weight = sess.run(W)\n",
    "        vloss = sess.run(loss, feed_dict={x_data: x_valid, y_data: y_valid,W:Weight})\n",
    "        valid_loss.append(vloss)\n",
    "    \n",
    "        train_acc_temp = sess.run(accuracy, feed_dict={\n",
    "            x_data: x_train,\n",
    "            y_data: y_train})\n",
    "        train_accuracy.append(train_acc_temp)\n",
    "\n",
    "        valid_acc_temp = sess.run(accuracy, feed_dict={\n",
    "            x_data: x_valid,\n",
    "            y_data: y_valid})\n",
    "        valid_accuracy.append(valid_acc_temp)\n",
    "    return W,train_loss,train_accuracy,valid_loss,valid_accuracy    \n",
    "    \n"
   ]
  },
  {
   "cell_type": "code",
   "execution_count": null,
   "metadata": {},
   "outputs": [],
   "source": [
    "def accuracy(predictions, labels):\n",
    "    return (100.0 * np.sum(np.argmax(predictions, 1) == np.argmax(labels, 1))\n",
    "            / predictions.shape[0])\n",
    "feature_size = x_train.shape[1]\n",
    "num_labels=10\n",
    "delta = 1.0\n",
    "regulation_rate = 5e-4\n",
    "graph = tf.Graph()\n",
    "\n",
    "with graph.as_default():\n",
    "    tf_train_dataset = tf.constant(x_train,dtype=tf.float32)\n",
    "    tf_train_labels = tf.constant(y_train,dtype=tf.float32)\n",
    "    \n",
    "    weights = tf.Variable(tf.truncated_normal([feature_size, num_labels]))\n",
    "    biases = tf.Variable(tf.zeros([num_labels]))\n",
    "\n",
    "    logits = tf.matmul(tf_train_dataset, weights) + biases\n",
    "    # TODO better way as numpy's: np.choose(data.target, logits.T)\n",
    "    y = tf.reduce_sum(logits * tf_train_labels, 1, keep_dims=True)\n",
    "    loss = tf.reduce_mean(tf.reduce_sum(tf.maximum(0.0, logits - y + delta), 1)) - delta\n",
    "    loss += regulation_rate * tf.nn.l2_loss(weights)\n",
    "\n",
    "    optimizer = tf.train.AdamOptimizer(0.1).minimize(loss)\n",
    "    train_prediction = tf.nn.softmax(logits)\n",
    "    \n",
    "with tf.Session(graph=graph) as session:\n",
    "    tf.initialize_all_variables().run()\n",
    "    for step in range(10001):\n",
    "        _, l, predictions = session.run([optimizer, loss, train_prediction])\n",
    "        if step % 500 == 0:\n",
    "            print('step:{} loss:{:.6f} accuracy: {:.2f}'.format(\n",
    "                    step, l, accuracy(predictions, y_train)))"
   ]
  },
  {
   "cell_type": "code",
   "execution_count": null,
   "metadata": {},
   "outputs": [],
   "source": []
  }
 ],
 "metadata": {
  "kernelspec": {
   "display_name": "Python 3",
   "language": "python",
   "name": "python3"
  },
  "language_info": {
   "codemirror_mode": {
    "name": "ipython",
    "version": 3
   },
   "file_extension": ".py",
   "mimetype": "text/x-python",
   "name": "python",
   "nbconvert_exporter": "python",
   "pygments_lexer": "ipython3",
   "version": "3.6.2"
  }
 },
 "nbformat": 4,
 "nbformat_minor": 2
}
